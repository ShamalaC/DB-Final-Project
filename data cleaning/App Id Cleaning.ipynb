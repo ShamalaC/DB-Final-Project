{
 "cells": [
  {
   "cell_type": "code",
   "execution_count": null,
   "id": "982e330c",
   "metadata": {},
   "outputs": [],
   "source": [
    "import pandas as pd\n",
    "from google_play_scraper import app\n",
    "from tqdm.notebook import tqdm\n",
    "\n",
    "# Load your dataset\n",
    "df = pd.read_csv('app_id_filtered_on_released_date_from_92020_52021_1.csv')  # Replace with your dataset's path\n",
    "\n",
    "# Function to check if app exists\n",
    "def app_exists(app_id):\n",
    "    try:\n",
    "        app(app_id)\n",
    "        return True\n",
    "    except:\n",
    "        return False\n",
    "\n",
    "# Iterate over the DataFrame with a progress bar\n",
    "progress_bar = tqdm(df['App Id'].iteritems(), desc=\"Checking apps\", total=df.shape[0])\n",
    "for index, app_id in progress_bar:\n",
    "    # Replace 'app_id' with your DataFrame's relevant column name\n",
    "    df.at[index, 'exists'] = app_exists(app_id)\n",
    "\n",
    "# Remove apps that don't exist\n",
    "df = df[df['exists']]\n",
    "\n",
    "# Optionally, drop the 'exists' column\n",
    "df.drop(columns=['exists'], inplace=True)"
   ]
  },
  {
   "cell_type": "code",
   "execution_count": null,
   "id": "6dd3ddf1",
   "metadata": {},
   "outputs": [],
   "source": []
  }
 ],
 "metadata": {
  "kernelspec": {
   "display_name": "Python 3 (ipykernel)",
   "language": "python",
   "name": "python3"
  },
  "language_info": {
   "codemirror_mode": {
    "name": "ipython",
    "version": 3
   },
   "file_extension": ".py",
   "mimetype": "text/x-python",
   "name": "python",
   "nbconvert_exporter": "python",
   "pygments_lexer": "ipython3",
   "version": "3.11.4"
  }
 },
 "nbformat": 4,
 "nbformat_minor": 5
}
